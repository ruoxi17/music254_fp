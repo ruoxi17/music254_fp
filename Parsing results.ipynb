{
 "cells": [
  {
   "cell_type": "code",
   "execution_count": 1,
   "metadata": {},
   "outputs": [],
   "source": [
    "import parser"
   ]
  },
  {
   "cell_type": "code",
   "execution_count": 4,
   "metadata": {},
   "outputs": [],
   "source": [
    "chords_base_dir = 'output/joplin/chords/'\n",
    "times_base_dir = 'output/joplin/times/'\n",
    "save_base_dir = 'midiout/joplin/'"
   ]
  },
  {
   "cell_type": "code",
   "execution_count": 5,
   "metadata": {},
   "outputs": [
    {
     "ename": "IndexError",
     "evalue": "list index out of range",
     "output_type": "error",
     "traceback": [
      "\u001b[0;31m---------------------------------------------------------------------------\u001b[0m",
      "\u001b[0;31mIndexError\u001b[0m                                Traceback (most recent call last)",
      "\u001b[0;32m<ipython-input-5-80fabe03f2ab>\u001b[0m in \u001b[0;36m<module>\u001b[0;34m()\u001b[0m\n\u001b[1;32m      4\u001b[0m     \u001b[0mtimes_dir\u001b[0m \u001b[0;34m=\u001b[0m \u001b[0mtimes_base_dir\u001b[0m \u001b[0;34m+\u001b[0m \u001b[0msamp\u001b[0m\u001b[0;34m\u001b[0m\u001b[0m\n\u001b[1;32m      5\u001b[0m     \u001b[0msave_dir\u001b[0m \u001b[0;34m=\u001b[0m \u001b[0msave_base_dir\u001b[0m \u001b[0;34m+\u001b[0m \u001b[0msamp\u001b[0m\u001b[0;34m\u001b[0m\u001b[0m\n\u001b[0;32m----> 6\u001b[0;31m     \u001b[0mparser\u001b[0m\u001b[0;34m.\u001b[0m\u001b[0mparse_files\u001b[0m\u001b[0;34m(\u001b[0m\u001b[0mchords_dir\u001b[0m\u001b[0;34m,\u001b[0m \u001b[0mtimes_dir\u001b[0m\u001b[0;34m,\u001b[0m \u001b[0msave_dir\u001b[0m\u001b[0;34m)\u001b[0m\u001b[0;34m\u001b[0m\u001b[0m\n\u001b[0m",
      "\u001b[0;32m~/Documents/SU/2018_Spr/MUSIC254/music254_fp/parser.py\u001b[0m in \u001b[0;36mparse_files\u001b[0;34m(chords_dir, times_dir, save_dir, ignore_illegal, tempo)\u001b[0m\n\u001b[1;32m     86\u001b[0m \u001b[0;34m\u001b[0m\u001b[0m\n\u001b[1;32m     87\u001b[0m     \u001b[0;32mfor\u001b[0m \u001b[0mi\u001b[0m\u001b[0;34m,\u001b[0m \u001b[0mc_fn\u001b[0m \u001b[0;32min\u001b[0m \u001b[0menumerate\u001b[0m\u001b[0;34m(\u001b[0m\u001b[0mchords_files\u001b[0m\u001b[0;34m)\u001b[0m\u001b[0;34m:\u001b[0m\u001b[0;34m\u001b[0m\u001b[0m\n\u001b[0;32m---> 88\u001b[0;31m         \u001b[0mparse_file\u001b[0m\u001b[0;34m(\u001b[0m\u001b[0mchords_dir\u001b[0m \u001b[0;34m+\u001b[0m \u001b[0mc_fn\u001b[0m\u001b[0;34m,\u001b[0m \u001b[0mtimes_dir\u001b[0m \u001b[0;34m+\u001b[0m \u001b[0mtimes_files\u001b[0m\u001b[0;34m[\u001b[0m\u001b[0mi\u001b[0m\u001b[0;34m]\u001b[0m\u001b[0;34m,\u001b[0m \u001b[0msave_dir\u001b[0m\u001b[0;34m,\u001b[0m \u001b[0mignore_illegal\u001b[0m\u001b[0;34m=\u001b[0m\u001b[0mignore_illegal\u001b[0m\u001b[0;34m,\u001b[0m \u001b[0mtempo\u001b[0m\u001b[0;34m=\u001b[0m\u001b[0mtempo\u001b[0m\u001b[0;34m)\u001b[0m\u001b[0;34m\u001b[0m\u001b[0m\n\u001b[0m\u001b[1;32m     89\u001b[0m \u001b[0;34m\u001b[0m\u001b[0m\n",
      "\u001b[0;31mIndexError\u001b[0m: list index out of range"
     ]
    }
   ],
   "source": [
    "samps = ['argmax/', 'tau1.0/', 'tau0.9/', 'tau0.8/']\n",
    "for samp in samps:\n",
    "    chords_dir = chords_base_dir + samp\n",
    "    times_dir = times_base_dir + samp\n",
    "    save_dir = save_base_dir + samp\n",
    "    parser.parse_files(chords_dir, times_dir, save_dir)"
   ]
  },
  {
   "cell_type": "code",
   "execution_count": 2,
   "metadata": {},
   "outputs": [],
   "source": [
    "chords_base_dir = 'output/joplin/chords/emb/'\n",
    "times_base_dir = 'output/joplin/times/emb/'\n",
    "save_base_dir = 'midiout/joplin/emb/'"
   ]
  },
  {
   "cell_type": "code",
   "execution_count": 3,
   "metadata": {},
   "outputs": [],
   "source": [
    "samps = ['argmax/', 'tau1.0/', 'tau0.9/', 'tau0.8/']\n",
    "for samp in samps:\n",
    "    chords_dir = chords_base_dir + samp\n",
    "    times_dir = times_base_dir + samp\n",
    "    save_dir = save_base_dir + samp\n",
    "    parser.parse_files(chords_dir, times_dir, save_dir)"
   ]
  },
  {
   "cell_type": "code",
   "execution_count": null,
   "metadata": {},
   "outputs": [],
   "source": [
    "chords_base_dir = 'output/chorale/chords/'\n",
    "times_base_dir = 'output/chorale/times/'\n",
    "save_base_dir = 'midiout/chorale/'"
   ]
  },
  {
   "cell_type": "code",
   "execution_count": null,
   "metadata": {},
   "outputs": [],
   "source": [
    "samps = ['argmax/', 'tau1.0/', 'tau0.9/', 'tau0.8/']\n",
    "for samp in samps:\n",
    "    chords_dir = chords_base_dir + samp\n",
    "    times_dir = times_base_dir + samp\n",
    "    save_dir = save_base_dir + samp\n",
    "    parser.parse_files(chords_dir, times_dir, save_dir, tempo=1200000)"
   ]
  }
 ],
 "metadata": {
  "kernelspec": {
   "display_name": "Python 3",
   "language": "python",
   "name": "python3"
  },
  "language_info": {
   "codemirror_mode": {
    "name": "ipython",
    "version": 3
   },
   "file_extension": ".py",
   "mimetype": "text/x-python",
   "name": "python",
   "nbconvert_exporter": "python",
   "pygments_lexer": "ipython3",
   "version": "3.6.5"
  }
 },
 "nbformat": 4,
 "nbformat_minor": 2
}

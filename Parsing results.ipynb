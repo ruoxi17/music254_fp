{
 "cells": [
  {
   "cell_type": "code",
   "execution_count": 1,
   "metadata": {},
   "outputs": [],
   "source": [
    "import mido\n",
    "import os\n",
    "import parser"
   ]
  },
  {
   "cell_type": "code",
   "execution_count": 2,
   "metadata": {},
   "outputs": [],
   "source": [
    "chords_base_dir = 'output/joplin/chords/'\n",
    "times_base_dir = 'output/joplin/times/'\n",
    "save_base_dir = 'midiout/joplin/'"
   ]
  },
  {
   "cell_type": "code",
   "execution_count": 3,
   "metadata": {},
   "outputs": [],
   "source": [
    "samps = ['argmax/', 'tau1.0/', 'tau0.9/', 'tau0.8/']\n",
    "for samp in samps:\n",
    "    chords_dir = chords_base_dir + samp\n",
    "    times_dir = times_base_dir + samp\n",
    "    save_dir = save_base_dir + samp\n",
    "    parser.parse_files(chords_dir, times_dir, save_dir)"
   ]
  },
  {
   "cell_type": "code",
   "execution_count": null,
   "metadata": {},
   "outputs": [],
   "source": []
  }
 ],
 "metadata": {
  "kernelspec": {
   "display_name": "Python 3",
   "language": "python",
   "name": "python3"
  },
  "language_info": {
   "codemirror_mode": {
    "name": "ipython",
    "version": 3
   },
   "file_extension": ".py",
   "mimetype": "text/x-python",
   "name": "python",
   "nbconvert_exporter": "python",
   "pygments_lexer": "ipython3",
   "version": "3.6.5"
  }
 },
 "nbformat": 4,
 "nbformat_minor": 2
}

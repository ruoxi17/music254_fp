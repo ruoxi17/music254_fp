{
 "cells": [
  {
   "cell_type": "code",
   "execution_count": 1,
   "metadata": {},
   "outputs": [],
   "source": [
    "music_type = 'chorales'\n",
    "dataset = 'datasets/' + music_type"
   ]
  },
  {
   "cell_type": "code",
   "execution_count": 2,
   "metadata": {},
   "outputs": [],
   "source": [
    "import os\n",
    "import util"
   ]
  },
  {
   "cell_type": "code",
   "execution_count": 3,
   "metadata": {},
   "outputs": [
    {
     "data": {
      "text/plain": [
       "\"\\nfiles = [f for f in os.listdir(dataset+'/krn/') if f.endswith('.krn')]\\n\\nfor file in files[:]:\\n    basename = file[:-4]\\n    ! transpose -k c $dataset/krn/$basename\\\\.krn | rchoraledata > $dataset/dat/$basename\\\\.dat\\n\""
      ]
     },
     "execution_count": 3,
     "metadata": {},
     "output_type": "execute_result"
    }
   ],
   "source": [
    "'''\n",
    "files = [f for f in os.listdir(dataset+'/krn/') if f.endswith('.krn')]\n",
    "\n",
    "for file in files[:]:\n",
    "    basename = file[:-4]\n",
    "    ! transpose -k c $dataset/krn/$basename\\.krn | rchoraledata > $dataset/dat/$basename\\.dat\n",
    "'''"
   ]
  },
  {
   "cell_type": "code",
   "execution_count": 4,
   "metadata": {},
   "outputs": [],
   "source": [
    "files = [f for f in os.listdir(dataset+'/dat/') if f.endswith('.dat')]\n",
    "files.sort()"
   ]
  },
  {
   "cell_type": "code",
   "execution_count": 5,
   "metadata": {},
   "outputs": [],
   "source": [
    "# c_data: [song, measure, chord, pitch]\n",
    "# t_data: [song, measure, dur]\n",
    "t_data, c_data, t_val2idx, t_idx2val, c_val2idx, c_idx2val = (util.parse_dat_dir(dataset, files))"
   ]
  },
  {
   "cell_type": "code",
   "execution_count": 6,
   "metadata": {},
   "outputs": [],
   "source": [
    "test = util.gen_data_rec(c_data, c_val2idx)"
   ]
  },
  {
   "cell_type": "code",
   "execution_count": 7,
   "metadata": {},
   "outputs": [],
   "source": [
    "idx_name = [c_idx2val[i] for i in range(len(c_val2idx))]\n",
    "co_mat = util.gen_co_mat(c_data, c_val2idx)\n",
    "import pandas as pd\n",
    "df_chord = pd.DataFrame(co_mat, index=idx_name)"
   ]
  },
  {
   "cell_type": "code",
   "execution_count": 8,
   "metadata": {},
   "outputs": [],
   "source": [
    "dim = 80\n",
    "principal_data = util.pca_wrapper(co_mat, dim)\n",
    "col_name = ['component_' + str(i) for i in range(dim)]"
   ]
  },
  {
   "cell_type": "code",
   "execution_count": 9,
   "metadata": {},
   "outputs": [],
   "source": [
    "df_chord_principal = pd.DataFrame(data=principal_data, columns=col_name, index=idx_name)"
   ]
  },
  {
   "cell_type": "code",
   "execution_count": 10,
   "metadata": {},
   "outputs": [],
   "source": [
    "emb, names = util.gen_chord_emb(c_data, principal_data, c_val2idx)"
   ]
  },
  {
   "cell_type": "code",
   "execution_count": 13,
   "metadata": {},
   "outputs": [],
   "source": [
    "from sklearn.manifold import TSNE\n",
    "C_embedded_on = TSNE(n_components=2).fit_transform(emb)"
   ]
  },
  {
   "cell_type": "code",
   "execution_count": 14,
   "metadata": {},
   "outputs": [],
   "source": [
    "import matplotlib.pyplot as plt\n",
    "%matplotlib agg"
   ]
  },
  {
   "cell_type": "code",
   "execution_count": 18,
   "metadata": {},
   "outputs": [],
   "source": [
    "fig = plt.figure(figsize=(200, 200))\n",
    "for i, key in enumerate(names):\n",
    "    plt.text(C_embedded_on[i,0], C_embedded_on[i,1], util.idx_tuple_to_chord_name(key, c_idx2val, util.get_note_name_by_idx))\n",
    "    plt.scatter(C_embedded_on[i,0], C_embedded_on[i,1], marker='h', s=200, color='grey', alpha=0.4)\n",
    "plt.savefig('graphs/'+music_type+'/chord_name.svg')"
   ]
  },
  {
   "cell_type": "code",
   "execution_count": 19,
   "metadata": {},
   "outputs": [],
   "source": [
    "fig = plt.figure(figsize=(200, 200))\n",
    "for i, key in enumerate(names):\n",
    "    plt.text(C_embedded_on[i,0], C_embedded_on[i,1], util.idx_tuple_to_chord_name(key, c_idx2val, util.get_deg_7_by_idx))\n",
    "    plt.scatter(C_embedded_on[i,0], C_embedded_on[i,1], marker='h', s=200, color='grey', alpha=0.4)\n",
    "plt.savefig('graphs/'+music_type+'/7_deg.svg')"
   ]
  },
  {
   "cell_type": "code",
   "execution_count": 12,
   "metadata": {},
   "outputs": [],
   "source": [
    "import numpy as np\n",
    "np.savez_compressed(dataset+'/emb/'+'emb', emb=emb)"
   ]
  },
  {
   "cell_type": "code",
   "execution_count": 17,
   "metadata": {},
   "outputs": [],
   "source": [
    "def flatten_by_song(data):\n",
    "    # can be used to chord2vec\n",
    "    # flatten_data: [song, item], item can be chord or time duration\n",
    "    ret = []\n",
    "    for song in data[:]:\n",
    "        temp = []\n",
    "        for measure in song:\n",
    "            temp.extend(measure)\n",
    "        ret.append(temp)\n",
    "    return ret"
   ]
  },
  {
   "cell_type": "code",
   "execution_count": 18,
   "metadata": {},
   "outputs": [],
   "source": [
    "flatten_data = flatten_by_song(util.gen_data_rec(c_data, c_val2idx))"
   ]
  },
  {
   "cell_type": "code",
   "execution_count": null,
   "metadata": {},
   "outputs": [],
   "source": []
  }
 ],
 "metadata": {
  "kernelspec": {
   "display_name": "Python 3",
   "language": "python",
   "name": "python3"
  },
  "language_info": {
   "codemirror_mode": {
    "name": "ipython",
    "version": 3
   },
   "file_extension": ".py",
   "mimetype": "text/x-python",
   "name": "python",
   "nbconvert_exporter": "python",
   "pygments_lexer": "ipython3",
   "version": "3.6.4"
  }
 },
 "nbformat": 4,
 "nbformat_minor": 2
}
